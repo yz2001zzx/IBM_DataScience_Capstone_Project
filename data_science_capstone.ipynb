{
 "cells": [
  {
   "cell_type": "markdown",
   "id": "643fa4dd",
   "metadata": {},
   "source": [
    "# IBM Data Science Capstone Project"
   ]
  },
  {
   "cell_type": "markdown",
   "id": "5d88b59c",
   "metadata": {},
   "source": [
    "## This Notebook is used for writing codes for IBM Data Science Professional Certificate Capstone Project"
   ]
  },
  {
   "cell_type": "code",
   "execution_count": 3,
   "id": "844e3468",
   "metadata": {},
   "outputs": [],
   "source": [
    "import pandas as pd\n",
    "import numpy as np"
   ]
  },
  {
   "cell_type": "code",
   "execution_count": null,
   "id": "9e6bce24",
   "metadata": {},
   "outputs": [],
   "source": []
  }
 ],
 "metadata": {
  "kernelspec": {
   "display_name": "Python 3",
   "language": "python",
   "name": "python3"
  },
  "language_info": {
   "codemirror_mode": {
    "name": "ipython",
    "version": 3
   },
   "file_extension": ".py",
   "mimetype": "text/x-python",
   "name": "python",
   "nbconvert_exporter": "python",
   "pygments_lexer": "ipython3",
   "version": "3.8.8"
  }
 },
 "nbformat": 4,
 "nbformat_minor": 5
}
